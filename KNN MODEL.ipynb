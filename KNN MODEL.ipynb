{
 "cells": [
  {
   "cell_type": "code",
   "execution_count": 5,
   "id": "0173a762-7af5-4e1c-966b-59516c13ad23",
   "metadata": {},
   "outputs": [],
   "source": [
    "\n"
   ]
  },
  {
   "cell_type": "code",
   "execution_count": 27,
   "id": "a3ad4560-e611-4afa-9fb4-0d8420e2762f",
   "metadata": {},
   "outputs": [
    {
     "name": "stdout",
     "output_type": "stream",
     "text": [
      "  buying  maint doors persons lug_boots safety  class\n",
      "0  vhigh  vhigh     2       2     small    low  unacc\n",
      "1  vhigh  vhigh     2       2     small    med  unacc\n",
      "2  vhigh  vhigh     2       2     small   high  unacc\n",
      "3  vhigh  vhigh     2       2       med    low  unacc\n",
      "4  vhigh  vhigh     2       2       med    med  unacc\n"
     ]
    }
   ],
   "source": []
  },
  {
   "cell_type": "code",
   "execution_count": 34,
   "id": "f8536bc2-7d49-44e4-b610-b5dc72ebbd2a",
   "metadata": {},
   "outputs": [
    {
     "name": "stdout",
     "output_type": "stream",
     "text": [
      "[['vhigh' 'vhigh' 'low']\n",
      " ['vhigh' 'vhigh' 'med']\n",
      " ['vhigh' 'vhigh' 'high']\n",
      " ...\n",
      " ['low' 'low' 'low']\n",
      " ['low' 'low' 'med']\n",
      " ['low' 'low' 'high']]       class\n",
      "0     unacc\n",
      "1     unacc\n",
      "2     unacc\n",
      "3     unacc\n",
      "4     unacc\n",
      "...     ...\n",
      "1723   good\n",
      "1724  vgood\n",
      "1725  unacc\n",
      "1726   good\n",
      "1727  vgood\n",
      "\n",
      "[1728 rows x 1 columns]\n"
     ]
    }
   ],
   "source": [
    "\n"
   ]
  },
  {
   "cell_type": "code",
   "execution_count": 41,
   "id": "e05d0a8f-d60d-4632-b856-c60866391268",
   "metadata": {},
   "outputs": [
    {
     "name": "stdout",
     "output_type": "stream",
     "text": [
      "[[3 3 1]\n",
      " [3 3 2]\n",
      " [3 3 0]\n",
      " ...\n",
      " [1 1 1]\n",
      " [1 1 2]\n",
      " [1 1 0]]\n"
     ]
    }
   ],
   "source": []
  },
  {
   "cell_type": "code",
   "execution_count": 74,
   "id": "924fa047-1c61-484b-8999-bbb294bb21fc",
   "metadata": {},
   "outputs": [
    {
     "name": "stdout",
     "output_type": "stream",
     "text": [
      "[0 1 2 3]\n"
     ]
    }
   ],
   "source": []
  },
  {
   "cell_type": "code",
   "execution_count": 1,
   "id": "17e99aad-5c96-4b86-858f-0b8b75b1e961",
   "metadata": {},
   "outputs": [],
   "source": [
    "import numpy as np\n",
    "import pandas as pd\n",
    "from sklearn import neighbors, metrics\n",
    "from sklearn.model_selection import train_test_split\n",
    "from sklearn.preprocessing import LabelEncoder"
   ]
  },
  {
   "cell_type": "code",
   "execution_count": 1,
   "id": "ac83f089-5d3e-454c-89eb-ad350c3738db",
   "metadata": {},
   "outputs": [],
   "source": [
    "import numpy as np\n",
    "import pandas as pd\n",
    "from sklearn import neighbors, metrics\n",
    "from sklearn.model_selection import train_test_split\n",
    "from sklearn.preprocessing import LabelEncoder"
   ]
  },
  {
   "cell_type": "code",
   "execution_count": 28,
   "id": "5f01f080-926a-46c0-9811-aa99cd61a781",
   "metadata": {},
   "outputs": [
    {
     "name": "stdout",
     "output_type": "stream",
     "text": [
      "[['vhigh' 'vhigh' 'low']\n",
      " ['vhigh' 'vhigh' 'med']\n",
      " ['vhigh' 'vhigh' 'high']\n",
      " ...\n",
      " ['low' 'low' 'low']\n",
      " ['low' 'low' 'med']\n",
      " ['low' 'low' 'high']]       class\n",
      "0     unacc\n",
      "1     unacc\n",
      "2     unacc\n",
      "3     unacc\n",
      "4     unacc\n",
      "...     ...\n",
      "1723   good\n",
      "1724  vgood\n",
      "1725  unacc\n",
      "1726   good\n",
      "1727  vgood\n",
      "\n",
      "[1728 rows x 1 columns]\n",
      "[[3 3 1]\n",
      " [3 3 2]\n",
      " [3 3 0]\n",
      " ...\n",
      " [1 1 1]\n",
      " [1 1 2]\n",
      " [1 1 0]]\n",
      "[[0]\n",
      " [0]\n",
      " [0]\n",
      " ...\n",
      " [0]\n",
      " [2]\n",
      " [3]]\n",
      "predictions: [0 0 0 ... 0 0 0]\n",
      "accuracy: 0.7563657407407407\n",
      "actual: [0]\n",
      "predicted value: 0\n"
     ]
    },
    {
     "name": "stderr",
     "output_type": "stream",
     "text": [
      "C:\\Users\\mroha\\AppData\\Local\\Temp\\ipykernel_18816\\1409505216.py:25: SettingWithCopyWarning: \n",
      "A value is trying to be set on a copy of a slice from a DataFrame.\n",
      "Try using .loc[row_indexer,col_indexer] = value instead\n",
      "\n",
      "See the caveats in the documentation: https://pandas.pydata.org/pandas-docs/stable/user_guide/indexing.html#returning-a-view-versus-a-copy\n",
      "  y['class']=y['class'].map(label_mapping)\n",
      "C:\\Users\\mroha\\AppData\\Local\\Programs\\Python\\Python311\\Lib\\site-packages\\sklearn\\neighbors\\_classification.py:228: DataConversionWarning: A column-vector y was passed when a 1d array was expected. Please change the shape of y to (n_samples,), for example using ravel().\n",
      "  return self._fit(X, y)\n"
     ]
    }
   ],
   "source": [
    "car_data =  pd.read_csv('car.data', header = None)\n",
    "\n",
    "car_data.columns = ['Buying', 'maint', 'doors', 'persons', 'lug_boots', 'safety', 'class']\n",
    "\n",
    "X=car_data[[\n",
    "    'Buying',\n",
    "    'maint',\n",
    "    'safety'\n",
    "]].values\n",
    "y=car_data[['class']]\n",
    "print(X,y)\n",
    "\n",
    "Le = LabelEncoder()\n",
    "for i in range(len(X[0])):\n",
    "      X[:, i] = Le.fit_transform(X[:,i])\n",
    "print(X)\n",
    "\n",
    "# conversion of y\n",
    "label_mapping ={\n",
    "    'unacc':0,\n",
    "    'acc':1,\n",
    "    'good':2,\n",
    "    'vgood':3\n",
    "}\n",
    "y['class']=y['class'].map(label_mapping)\n",
    "y=np.array(y)\n",
    "print(y)\n",
    " # creating the model\n",
    "knn=neighbors.KNeighborsClassifier(n_neighbors=25,weights='uniform')\n",
    "X_train, X_test, y_train, y_test =train_test_split(X,y, test_size= 0.2)\n",
    "knn.fit(X_train,y_train)\n",
    "prediction= knn.predict(X)\n",
    "accuracy= metrics.accuracy_score(y, prediction)\n",
    "print(\"predictions:\", prediction)\n",
    "print(\"accuracy:\", accuracy)\n",
    "print(\"actual:\", y[300])\n",
    "print(\"predicted value:\",knn.predict(X)[300])"
   ]
  },
  {
   "cell_type": "code",
   "execution_count": null,
   "id": "2af961a3-101e-47bf-9702-962d7d81c70a",
   "metadata": {},
   "outputs": [],
   "source": []
  }
 ],
 "metadata": {
  "kernelspec": {
   "display_name": "Python 3 (ipykernel)",
   "language": "python",
   "name": "python3"
  },
  "language_info": {
   "codemirror_mode": {
    "name": "ipython",
    "version": 3
   },
   "file_extension": ".py",
   "mimetype": "text/x-python",
   "name": "python",
   "nbconvert_exporter": "python",
   "pygments_lexer": "ipython3",
   "version": "3.11.2"
  }
 },
 "nbformat": 4,
 "nbformat_minor": 5
}
